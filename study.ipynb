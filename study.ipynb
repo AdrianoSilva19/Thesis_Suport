{
 "cells": [
  {
   "cell_type": "code",
   "execution_count": 3,
   "metadata": {},
   "outputs": [
    {
     "name": "stdout",
     "output_type": "stream",
     "text": [
      "iam\n",
      "iamamateur\n"
     ]
    }
   ],
   "source": [
    "## How can you replace string space with a given character in Python?  Example \"I m\" = \"Iam\"\n",
    "\n",
    "def replace_space(phrase,switching_letter):\n",
    "    return phrase.replace(\" \",switching_letter)\n",
    "\n",
    "\n",
    "print(replace_space(\"i m\",\"a\"))\n",
    "\n",
    "\n",
    "# with iterations\n",
    "\n",
    "def replace_space_iterate(phrase,switching_letter):\n",
    "    new_str = \"\"\n",
    "    for letter in phrase:\n",
    "        if letter == \" \": \n",
    "            new_str += switching_letter\n",
    "        else:\n",
    "            new_str += letter\n",
    "    return new_str\n",
    "\n",
    "\n",
    "print(replace_space_iterate(\"i m mateur\",\"a\"))\n",
    "\n"
   ]
  },
  {
   "cell_type": "code",
   "execution_count": 14,
   "metadata": {},
   "outputs": [
    {
     "data": {
      "text/plain": [
       "'This is not a number: something'"
      ]
     },
     "execution_count": 14,
     "metadata": {},
     "output_type": "execute_result"
    }
   ],
   "source": [
    "## Given a positive integer num, write a function that returns True if num is a perfect square else False.\n",
    "\n",
    "def check_square_perfect(number:int)->bool:\n",
    "    try:\n",
    "        if int(number**1/2)*2 == number:\n",
    "            return True\n",
    "        else:\n",
    "            return False\n",
    "    except:\n",
    "        return f\"This is not a number: {number}\"\n",
    "\n",
    "check_square_perfect(\"something\")"
   ]
  },
  {
   "cell_type": "code",
   "execution_count": 24,
   "metadata": {},
   "outputs": [
    {
     "name": "stdout",
     "output_type": "stream",
     "text": [
      "[1, 2]\n"
     ]
    }
   ],
   "source": [
    "def solve(A):\n",
    "\n",
    "        opMap = {}\n",
    "        output = []\n",
    "        A = list(A)\n",
    "        length = len(A)\n",
    "       \n",
    "        for i, n in enumerate(A):\n",
    "            if n in opMap:\n",
    "                output.append(n)\n",
    "            opMap[n] = i\n",
    "       \n",
    "        A.remove(output[0])\n",
    "        expectedSum = length * (length+1) // 2\n",
    "        diff = expectedSum - sum(A)\n",
    "       \n",
    "        output.append(diff)\n",
    "        return output\n",
    "\n",
    "print(solve([1,3,4,1]))"
   ]
  },
  {
   "cell_type": "code",
   "execution_count": null,
   "metadata": {},
   "outputs": [],
   "source": []
  }
 ],
 "metadata": {
  "kernelspec": {
   "display_name": "thesis",
   "language": "python",
   "name": "python3"
  },
  "language_info": {
   "codemirror_mode": {
    "name": "ipython",
    "version": 3
   },
   "file_extension": ".py",
   "mimetype": "text/x-python",
   "name": "python",
   "nbconvert_exporter": "python",
   "pygments_lexer": "ipython3",
   "version": "3.10.4"
  },
  "orig_nbformat": 4
 },
 "nbformat": 4,
 "nbformat_minor": 2
}
